{
  "nbformat": 4,
  "nbformat_minor": 0,
  "metadata": {
    "colab": {
      "name": "KerasTunerTest.ipynb",
      "provenance": [],
      "collapsed_sections": [],
      "authorship_tag": "ABX9TyMv3fs5RMZ3U0E6cE9mzmyn",
      "include_colab_link": true
    },
    "kernelspec": {
      "name": "python3",
      "display_name": "Python 3"
    },
    "accelerator": "GPU"
  },
  "cells": [
    {
      "cell_type": "markdown",
      "metadata": {
        "id": "view-in-github",
        "colab_type": "text"
      },
      "source": [
        "<a href=\"https://colab.research.google.com/github/LaTsa99/DeepMinds/blob/master/KerasTunerTest.ipynb\" target=\"_parent\"><img src=\"https://colab.research.google.com/assets/colab-badge.svg\" alt=\"Open In Colab\"/></a>"
      ]
    },
    {
      "cell_type": "code",
      "metadata": {
        "id": "vLjB5wNIvXy6"
      },
      "source": [
        "!pip install --upgrade tensorflow\n",
        "!pip install --upgrade tensorflow-gpu\n",
        "!pip install keras-tuner"
      ],
      "execution_count": null,
      "outputs": []
    },
    {
      "cell_type": "code",
      "metadata": {
        "id": "CRIMb6sjv7f6"
      },
      "source": [
        "import os, zipfile\n",
        "from tensorflow.keras.preprocessing.image import ImageDataGenerator\n",
        "\n",
        "!pip install gdown\n",
        "!gdown https://drive.google.com/uc?id=1UM65-NZoXAr3lydSkmX2OmHm63-PfepX -O /tmp/girls.zip\n",
        "\n",
        "local_zip = '/tmp/girls.zip'\n",
        "zip_ref = zipfile.ZipFile(local_zip, 'r')\n",
        "zip_ref.extractall('/tmp')\n",
        "zip_ref.close()\n",
        "\n",
        "base_dir = os.path.join('/tmp', 'girls')\n",
        "\n",
        "train_dir = os.path.join(base_dir, 'train')\n",
        "train_bikini_dir = os.path.join(train_dir, 'bikini')\n",
        "train_long_dir = os.path.join(train_dir, 'long')\n",
        "\n",
        "valid_dir = os.path.join(base_dir, 'valid')\n",
        "valid_bikini_dir = os.path.join(valid_dir, 'bikini')\n",
        "valid_long_dir = os.path.join(valid_dir, 'long')\n",
        "\n",
        "test_dir = os.path.join(base_dir, 'test')\n",
        "test_bikini_dir = os.path.join(test_dir, 'bikini')\n",
        "test_long_dir = os.path.join(test_dir, 'long')\n",
        "\n",
        "bikini_train_fnames = os.listdir(train_bikini_dir)\n",
        "bikini_valid_fnames = os.listdir(valid_bikini_dir)\n",
        "bikini_test_fnames = os.listdir(test_bikini_dir)\n",
        "\n",
        "long_train_fnames = os.listdir(train_long_dir)\n",
        "long_valid_fnames = os.listdir(valid_long_dir)\n",
        "long_test_fnames = os.listdir(test_long_dir)\n",
        "\n",
        "img_height = 299\n",
        "img_width = 299\n",
        "\n",
        "train_datagen = ImageDataGenerator(rescale=1./255, shear_range=10, zoom_range=0.2, horizontal_flip=True, rotation_range=20)\n",
        "valid_datagen = ImageDataGenerator(rescale=1./255)\n",
        "test_datagen  = ImageDataGenerator(rescale=1./255)\n",
        "\n",
        "train_generator = train_datagen.flow_from_directory(train_dir, target_size=(img_height, img_width), batch_size=20, class_mode='binary')\n",
        "valid_generator = valid_datagen.flow_from_directory(valid_dir, target_size=(img_height, img_width), batch_size=20, class_mode='binary')\n",
        "test_generator  = test_datagen.flow_from_directory(test_dir, target_size=(img_height, img_width), batch_size=20, class_mode='binary')"
      ],
      "execution_count": null,
      "outputs": []
    },
    {
      "cell_type": "code",
      "metadata": {
        "id": "yp-mWczK3bau"
      },
      "source": [
        "early_stopping = EarlyStopping(patience=10, verbose=1, min_delta=0.001)               # Early stopping to stop overfitting\n",
        "checkpointer = ModelCheckpoint(filepath='model.hdf5', save_best_only=True, verbose=1) # Checkpointer to save the best model\n",
        "tb = TensorBoard(log_dir='logs', histogram_freq=1, write_graph=1) "
      ],
      "execution_count": 30,
      "outputs": []
    },
    {
      "cell_type": "code",
      "metadata": {
        "id": "kJT1l0kywYow"
      },
      "source": [
        "from tensorflow.keras.layers import Dense, GlobalMaxPooling2D, Dropout\n",
        "from tensorflow.keras.models import Model\n",
        "from tensorflow.keras.applications.inception_v3 import InceptionV3\n",
        "from tensorflow.keras.callbacks import EarlyStopping, ModelCheckpoint, TensorBoard\n",
        "from tensorflow.keras.optimizers import Adam\n",
        "\n",
        "def build_model(hp):\n",
        "  base_model = InceptionV3(weights='imagenet', include_top=False)\n",
        "\n",
        "  x = base_model.output\n",
        "  x = GlobalMaxPooling2D()(x)\n",
        "  x = Dropout(\n",
        "      rate=hp.Choice('dropout_1', values=[0.0, 0.1, 0.15, 0.25, 0.3, 0.45, 0.5])  # finomít\n",
        "  )(x)\n",
        "  x = Dense(1024,\n",
        "      activation=hp.Choice('activation', ['swish', 'relu', 'leakyrelu', 'sigmoid'])\n",
        "  )(x)\n",
        "  x = Dropout(\n",
        "      rate=hp.Choice('dropout_2', values=[0.0, 0.1, 0.15, 0.25, 0.3, 0.45, 0.5])  # finomít\n",
        "  )(x)\n",
        "  predictions = Dense(1, activation='sigmoid')(x)\n",
        "\n",
        "  model = Model(inputs=base_model.input, outputs=predictions)\n",
        "\n",
        "  for layer in base_model.layers:\n",
        "    layer.trainable = False\n",
        "\n",
        "  model.compile(loss='binary_crossentropy', metrics=['accuracy'], optimizer=Adam(hp.Choice('learning_rate', values=[1e-2,1e-3])))\n",
        "  return model"
      ],
      "execution_count": 28,
      "outputs": []
    },
    {
      "cell_type": "code",
      "metadata": {
        "colab": {
          "base_uri": "https://localhost:8080/"
        },
        "id": "4lbScVEt0p9m",
        "outputId": "c4c73733-e6dd-4766-bcc3-2894a9e37b94"
      },
      "source": [
        "from kerastuner.tuners import Hyperband\n",
        "\n",
        "tuner = Hyperband(\n",
        "    build_model,\n",
        "    objective='val_accuracy',\n",
        "    factor=3,\n",
        "    max_epochs=5,\n",
        "    directory='output',\n",
        "    project_name='hyper1'\n",
        ")\n",
        "\n",
        "tuner.search_space_summary()"
      ],
      "execution_count": 29,
      "outputs": [
        {
          "output_type": "stream",
          "text": [
            "INFO:tensorflow:Reloading Oracle from existing project output/hyper1/oracle.json\n",
            "Search space summary\n",
            "Default search space size: 5\n",
            "dropout_1 (Choice)\n",
            "{'default': 0.0, 'conditions': [], 'values': [0.0, 0.25, 0.5], 'ordered': True}\n",
            "dense_1_units (Choice)\n",
            "{'default': 256, 'conditions': [], 'values': [256, 512, 1024], 'ordered': True}\n",
            "activation (Choice)\n",
            "{'default': 'swish', 'conditions': [], 'values': ['swish', 'relu', 'leakyrelu', 'sigmoid'], 'ordered': False}\n",
            "dropout_2 (Choice)\n",
            "{'default': 0.0, 'conditions': [], 'values': [0.0, 0.25, 0.5], 'ordered': True}\n",
            "learning_rate (Choice)\n",
            "{'default': 0.01, 'conditions': [], 'values': [0.01, 0.001], 'ordered': True}\n"
          ],
          "name": "stdout"
        }
      ]
    },
    {
      "cell_type": "code",
      "metadata": {
        "colab": {
          "base_uri": "https://localhost:8080/"
        },
        "id": "ceIBWbLE1Xqj",
        "outputId": "d5cf991f-4f58-4c63-a96d-1f175ca40d48"
      },
      "source": [
        "tuner.search(train_generator, steps_per_epoch=79, validation_data=valid_generator, validation_steps=26, epochs=10, callbacks=[early_stopping, checkpointer, tb])"
      ],
      "execution_count": 31,
      "outputs": [
        {
          "output_type": "stream",
          "text": [
            "Trial 10 Complete [00h 04m 01s]\n",
            "val_accuracy: 0.9692307710647583\n",
            "\n",
            "Best val_accuracy So Far: 0.9730769395828247\n",
            "Total elapsed time: 00h 25m 37s\n",
            "INFO:tensorflow:Oracle triggered exit\n"
          ],
          "name": "stdout"
        }
      ]
    },
    {
      "cell_type": "code",
      "metadata": {
        "colab": {
          "base_uri": "https://localhost:8080/"
        },
        "id": "ffav315b3X5X",
        "outputId": "1f1deb2f-0ef5-4cdc-d975-06a75f004474"
      },
      "source": [
        "params_best = tuner.get_best_hyperparameters(num_trials=1)[0]\n",
        "params_best.get_config()['values']"
      ],
      "execution_count": 34,
      "outputs": [
        {
          "output_type": "execute_result",
          "data": {
            "text/plain": [
              "{'activation': 'relu',\n",
              " 'dense_1_units': 256,\n",
              " 'dropout_1': 0.25,\n",
              " 'dropout_2': 0.5,\n",
              " 'learning_rate': 0.01,\n",
              " 'tuner/bracket': 1,\n",
              " 'tuner/epochs': 2,\n",
              " 'tuner/initial_epoch': 0,\n",
              " 'tuner/round': 0}"
            ]
          },
          "metadata": {
            "tags": []
          },
          "execution_count": 34
        }
      ]
    },
    {
      "cell_type": "code",
      "metadata": {
        "id": "EokNYt1Z-UZO"
      },
      "source": [
        "model_best = tuner.hypermodel.build(params_best)\n",
        "print(model_best.summary())"
      ],
      "execution_count": null,
      "outputs": []
    }
  ]
}