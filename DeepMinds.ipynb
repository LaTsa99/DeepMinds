{
  "nbformat": 4,
  "nbformat_minor": 0,
  "metadata": {
    "colab": {
      "name": "BigHouse.ipynb",
      "provenance": [],
      "include_colab_link": true
    },
    "kernelspec": {
      "name": "python3",
      "display_name": "Python 3"
    }
  },
  "cells": [
    {
      "cell_type": "markdown",
      "metadata": {
        "id": "view-in-github",
        "colab_type": "text"
      },
      "source": [
        "<a href=\"https://colab.research.google.com/github/LaTsa99/DeepMinds/blob/master/DeepMinds.ipynb\" target=\"_parent\"><img src=\"https://colab.research.google.com/assets/colab-badge.svg\" alt=\"Open In Colab\"/></a>"
      ]
    },
    {
      "cell_type": "markdown",
      "metadata": {
        "id": "NoCfFMcrszmJ"
      },
      "source": [
        "**Importing necessary modules for data preprocessing**"
      ]
    },
    {
      "cell_type": "code",
      "metadata": {
        "id": "b1wKc1XtUvj1"
      },
      "source": [
        "import os\n",
        "import zipfile\n",
        "from tensorflow.keras.preprocessing.image import ImageDataGenerator\n",
        "import numpy as np"
      ],
      "execution_count": 1,
      "outputs": []
    },
    {
      "cell_type": "markdown",
      "metadata": {
        "id": "DFo5HAfHs74v"
      },
      "source": [
        "**Downloading the zip file containing our training data**"
      ]
    },
    {
      "cell_type": "code",
      "metadata": {
        "id": "Z-MebynkrgEJ",
        "outputId": "30b9907c-54d8-4a70-de59-05f4a080acf3",
        "colab": {
          "base_uri": "https://localhost:8080/",
          "height": 221
        }
      },
      "source": [
        "!pip install gdown\n",
        "!gdown https://drive.google.com/uc?id=1UM65-NZoXAr3lydSkmX2OmHm63-PfepX -O /tmp/girls.zip"
      ],
      "execution_count": 2,
      "outputs": [
        {
          "output_type": "stream",
          "text": [
            "Requirement already satisfied: gdown in /usr/local/lib/python3.6/dist-packages (3.6.4)\n",
            "Requirement already satisfied: requests in /usr/local/lib/python3.6/dist-packages (from gdown) (2.23.0)\n",
            "Requirement already satisfied: six in /usr/local/lib/python3.6/dist-packages (from gdown) (1.15.0)\n",
            "Requirement already satisfied: tqdm in /usr/local/lib/python3.6/dist-packages (from gdown) (4.41.1)\n",
            "Requirement already satisfied: idna<3,>=2.5 in /usr/local/lib/python3.6/dist-packages (from requests->gdown) (2.10)\n",
            "Requirement already satisfied: chardet<4,>=3.0.2 in /usr/local/lib/python3.6/dist-packages (from requests->gdown) (3.0.4)\n",
            "Requirement already satisfied: certifi>=2017.4.17 in /usr/local/lib/python3.6/dist-packages (from requests->gdown) (2020.6.20)\n",
            "Requirement already satisfied: urllib3!=1.25.0,!=1.25.1,<1.26,>=1.21.1 in /usr/local/lib/python3.6/dist-packages (from requests->gdown) (1.24.3)\n",
            "Downloading...\n",
            "From: https://drive.google.com/uc?id=1UM65-NZoXAr3lydSkmX2OmHm63-PfepX\n",
            "To: /tmp/girls.zip\n",
            "126MB [00:00, 234MB/s]\n"
          ],
          "name": "stdout"
        }
      ]
    },
    {
      "cell_type": "markdown",
      "metadata": {
        "id": "NN7RZ-tctZd6"
      },
      "source": [
        "**Unzipping the zip file containing the training data**"
      ]
    },
    {
      "cell_type": "code",
      "metadata": {
        "id": "XXaVOtIgWTfs"
      },
      "source": [
        "local_zip = '/tmp/girls.zip'\n",
        "zip_ref = zipfile.ZipFile(local_zip, 'r')\n",
        "zip_ref.extractall('/tmp')\n",
        "zip_ref.close()"
      ],
      "execution_count": 3,
      "outputs": []
    },
    {
      "cell_type": "markdown",
      "metadata": {
        "id": "Unlzyeq-tewU"
      },
      "source": [
        "**Creating path strings to easily import the train data**"
      ]
    },
    {
      "cell_type": "code",
      "metadata": {
        "id": "fMLlV3LeWTcN"
      },
      "source": [
        "base_dir = os.path.join('/tmp', 'girls')\n",
        "\n",
        "train_dir = os.path.join(base_dir, 'train')\n",
        "train_bikini_dir = os.path.join(train_dir, 'bikini')\n",
        "train_long_dir = os.path.join(train_dir, 'long')\n",
        "\n",
        "valid_dir = os.path.join(base_dir, 'valid')\n",
        "valid_bikini_dir = os.path.join(valid_dir, 'bikini')\n",
        "valid_long_dir = os.path.join(valid_dir, 'long')\n",
        "\n",
        "test_dir = os.path.join(base_dir, 'test')\n",
        "test_bikini_dir = os.path.join(test_dir, 'bikini')\n",
        "test_long_dir = os.path.join(test_dir, 'long')"
      ],
      "execution_count": 4,
      "outputs": []
    },
    {
      "cell_type": "markdown",
      "metadata": {
        "id": "pYDjUma2trqp"
      },
      "source": [
        "**Querrying the filenames into variables**"
      ]
    },
    {
      "cell_type": "code",
      "metadata": {
        "id": "W0t2P0W0YC0Z"
      },
      "source": [
        "bikini_train_fnames = os.listdir(train_bikini_dir)\n",
        "bikini_valid_fnames = os.listdir(valid_bikini_dir)\n",
        "bikini_test_fnames = os.listdir(test_bikini_dir)\n",
        "\n",
        "long_train_fnames = os.listdir(train_long_dir)\n",
        "long_valid_fnames = os.listdir(valid_long_dir)\n",
        "long_test_fnames = os.listdir(test_long_dir)"
      ],
      "execution_count": 5,
      "outputs": []
    },
    {
      "cell_type": "markdown",
      "metadata": {
        "id": "8DGsxhjFtvSy"
      },
      "source": [
        "**Setting the input image dimensions**"
      ]
    },
    {
      "cell_type": "code",
      "metadata": {
        "id": "fdqubKwhiXKA"
      },
      "source": [
        "img_height = 299\n",
        "img_width = 299"
      ],
      "execution_count": 6,
      "outputs": []
    },
    {
      "cell_type": "markdown",
      "metadata": {
        "id": "6v4N21oIt3pH"
      },
      "source": [
        "**Generating our data and making data generators**"
      ]
    },
    {
      "cell_type": "code",
      "metadata": {
        "id": "XgzBP4ONZZGu",
        "outputId": "5fbe34ee-86d0-4ef8-c5f0-2ab6b66dbca1",
        "colab": {
          "base_uri": "https://localhost:8080/",
          "height": 68
        }
      },
      "source": [
        "train_datagen = ImageDataGenerator(rescale=1./255)\n",
        "valid_datagen = ImageDataGenerator(rescale=1./255)\n",
        "test_datagen  = ImageDataGenerator(rescale=1./255)\n",
        "\n",
        "train_generator = train_datagen.flow_from_directory(train_dir, target_size=(img_height, img_width), batch_size=20, class_mode='binary')\n",
        "valid_generator = valid_datagen.flow_from_directory(valid_dir, target_size=(img_height, img_width), batch_size=20, class_mode='binary')\n",
        "test_generator  = test_datagen.flow_from_directory(test_dir, target_size=(img_height, img_width), batch_size=20, class_mode='binary')"
      ],
      "execution_count": 7,
      "outputs": [
        {
          "output_type": "stream",
          "text": [
            "Found 1572 images belonging to 2 classes.\n",
            "Found 527 images belonging to 2 classes.\n",
            "Found 266 images belonging to 2 classes.\n"
          ],
          "name": "stdout"
        }
      ]
    }
  ]
}