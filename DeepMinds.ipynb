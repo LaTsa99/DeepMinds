{
  "nbformat": 4,
  "nbformat_minor": 0,
  "metadata": {
    "colab": {
      "name": "BigHouse.ipynb",
      "provenance": [],
      "include_colab_link": true
    },
    "kernelspec": {
      "name": "python3",
      "display_name": "Python 3"
    }
  },
  "cells": [
    {
      "cell_type": "markdown",
      "metadata": {
        "id": "view-in-github",
        "colab_type": "text"
      },
      "source": [
        "<a href=\"https://colab.research.google.com/github/LaTsa99/DeepMinds/blob/master/DeepMinds.ipynb\" target=\"_parent\"><img src=\"https://colab.research.google.com/assets/colab-badge.svg\" alt=\"Open In Colab\"/></a>"
      ]
    },
    {
      "cell_type": "code",
      "metadata": {
        "id": "b1wKc1XtUvj1"
      },
      "source": [
        "import os\n",
        "import zipfile\n",
        "from tensorflow.keras.preprocessing.image import ImageDataGenerator\n",
        "import numpy as np"
      ],
      "execution_count": null,
      "outputs": []
    },
    {
      "cell_type": "code",
      "metadata": {
        "id": "UU4YOcsIWTg4"
      },
      "source": [
        "from google.colab import drive\n",
        "from shutil import copyfile\n",
        "drive.mount('/content/gdrive')\n",
        "copyfile('/content/gdrive/My Drive/Colab Notebooks/girls.zip', '/tmp/girls.zip')"
      ],
      "execution_count": null,
      "outputs": []
    },
    {
      "cell_type": "code",
      "metadata": {
        "id": "XXaVOtIgWTfs"
      },
      "source": [
        "local_zip = '/tmp/girls.zip'\n",
        "zip_ref = zipfile.ZipFile(local_zip, 'r')\n",
        "zip_ref.extractall('/tmp')\n",
        "zip_ref.close()"
      ],
      "execution_count": null,
      "outputs": []
    },
    {
      "cell_type": "code",
      "metadata": {
        "id": "fMLlV3LeWTcN"
      },
      "source": [
        "base_dir = os.path.join('/tmp', 'girls')\n",
        "\n",
        "train_dir = os.path.join(base_dir, 'train')\n",
        "train_bikini_dir = os.path.join(train_dir, 'bikini')\n",
        "train_long_dir = os.path.join(train_dir, 'long')\n",
        "\n",
        "valid_dir = os.path.join(base_dir, 'valid')\n",
        "valid_bikini_dir = os.path.join(valid_dir, 'bikini')\n",
        "valid_long_dir = os.path.join(valid_dir, 'long')\n",
        "\n",
        "test_dir = os.path.join(base_dir, 'test')\n",
        "test_bikini_dir = os.path.join(test_dir, 'bikini')\n",
        "test_long_dir = os.path.join(test_dir, 'long')"
      ],
      "execution_count": null,
      "outputs": []
    },
    {
      "cell_type": "code",
      "metadata": {
        "id": "W0t2P0W0YC0Z"
      },
      "source": [
        "bikini_train_fnames = os.listdir(train_bikini_dir)\n",
        "bikini_valid_fnames = os.listdir(valid_bikini_dir)\n",
        "bikini_test_fnames = os.listdir(test_bikini_dir)\n",
        "\n",
        "long_train_fnames = os.listdir(train_long_dir)\n",
        "long_valid_fnames = os.listdir(valid_long_dir)\n",
        "long_test_fnames = os.listdir(test_long_dir)"
      ],
      "execution_count": null,
      "outputs": []
    },
    {
      "cell_type": "code",
      "metadata": {
        "id": "fdqubKwhiXKA"
      },
      "source": [
        "img_height = 299\n",
        "img_width = 299"
      ],
      "execution_count": null,
      "outputs": []
    },
    {
      "cell_type": "code",
      "metadata": {
        "id": "XgzBP4ONZZGu",
        "outputId": "afbd3ada-9a6e-48d0-e9fd-7cd609058712",
        "colab": {
          "base_uri": "https://localhost:8080/",
          "height": 68
        }
      },
      "source": [
        "train_datagen = ImageDataGenerator(rescale=1./255)\n",
        "valid_datagen = ImageDataGenerator(rescale=1./255)\n",
        "test_datagen  = ImageDataGenerator(rescale=1./255)\n",
        "\n",
        "train_generator = train_datagen.flow_from_directory(train_dir, target_size=(img_height, img_width), batch_size=20, class_mode='binary')\n",
        "valid_generator = valid_datagen.flow_from_directory(valid_dir, target_size=(img_height, img_width), batch_size=20, class_mode='binary')\n",
        "test_generator  = test_datagen.flow_from_directory(test_dir, target_size=(img_height, img_width), batch_size=20, class_mode='binary')"
      ],
      "execution_count": null,
      "outputs": [
        {
          "output_type": "stream",
          "text": [
            "Found 1572 images belonging to 2 classes.\n",
            "Found 527 images belonging to 2 classes.\n",
            "Found 266 images belonging to 2 classes.\n"
          ],
          "name": "stdout"
        }
      ]
    }
  ]
}